{
  "nbformat": 4,
  "nbformat_minor": 0,
  "metadata": {
    "colab": {
      "provenance": [],
      "mount_file_id": "1A3SuwXcZRNeAz5Z8NiJWg6TxpfpUjsw7",
      "authorship_tag": "ABX9TyNuUcs3ZbE3qh7L07ypvmrQ",
      "include_colab_link": true
    },
    "kernelspec": {
      "name": "python3",
      "display_name": "Python 3"
    },
    "language_info": {
      "name": "python"
    }
  },
  "cells": [
    {
      "cell_type": "markdown",
      "metadata": {
        "id": "view-in-github",
        "colab_type": "text"
      },
      "source": [
        "<a href=\"https://colab.research.google.com/github/vyom-verma/DL_model_cancer_prediction/blob/main/cancer.ipynb\" target=\"_parent\"><img src=\"https://colab.research.google.com/assets/colab-badge.svg\" alt=\"Open In Colab\"/></a>"
      ]
    },
    {
      "cell_type": "code",
      "source": [
        "import seaborn as sns\n",
        "import numpy as np\n",
        "import pandas as pd\n",
        "df=pd.read_csv('/content/Cancer_Data.csv')"
      ],
      "metadata": {
        "id": "iv2d7Dgs1ihv"
      },
      "execution_count": 373,
      "outputs": []
    },
    {
      "cell_type": "code",
      "source": [
        "df.info()"
      ],
      "metadata": {
        "colab": {
          "base_uri": "https://localhost:8080/"
        },
        "id": "d2ri_1q2MFIS",
        "outputId": "fafc34d2-0d7e-4be1-dd1f-667449f5439b"
      },
      "execution_count": 374,
      "outputs": [
        {
          "output_type": "stream",
          "name": "stdout",
          "text": [
            "<class 'pandas.core.frame.DataFrame'>\n",
            "RangeIndex: 569 entries, 0 to 568\n",
            "Data columns (total 33 columns):\n",
            " #   Column                   Non-Null Count  Dtype  \n",
            "---  ------                   --------------  -----  \n",
            " 0   id                       569 non-null    int64  \n",
            " 1   diagnosis                569 non-null    object \n",
            " 2   radius_mean              569 non-null    float64\n",
            " 3   texture_mean             569 non-null    float64\n",
            " 4   perimeter_mean           569 non-null    float64\n",
            " 5   area_mean                569 non-null    float64\n",
            " 6   smoothness_mean          569 non-null    float64\n",
            " 7   compactness_mean         569 non-null    float64\n",
            " 8   concavity_mean           569 non-null    float64\n",
            " 9   concave points_mean      569 non-null    float64\n",
            " 10  symmetry_mean            569 non-null    float64\n",
            " 11  fractal_dimension_mean   569 non-null    float64\n",
            " 12  radius_se                569 non-null    float64\n",
            " 13  texture_se               569 non-null    float64\n",
            " 14  perimeter_se             569 non-null    float64\n",
            " 15  area_se                  569 non-null    float64\n",
            " 16  smoothness_se            569 non-null    float64\n",
            " 17  compactness_se           569 non-null    float64\n",
            " 18  concavity_se             569 non-null    float64\n",
            " 19  concave points_se        569 non-null    float64\n",
            " 20  symmetry_se              569 non-null    float64\n",
            " 21  fractal_dimension_se     569 non-null    float64\n",
            " 22  radius_worst             569 non-null    float64\n",
            " 23  texture_worst            569 non-null    float64\n",
            " 24  perimeter_worst          569 non-null    float64\n",
            " 25  area_worst               569 non-null    float64\n",
            " 26  smoothness_worst         569 non-null    float64\n",
            " 27  compactness_worst        569 non-null    float64\n",
            " 28  concavity_worst          569 non-null    float64\n",
            " 29  concave points_worst     569 non-null    float64\n",
            " 30  symmetry_worst           569 non-null    float64\n",
            " 31  fractal_dimension_worst  569 non-null    float64\n",
            " 32  Unnamed: 32              0 non-null      float64\n",
            "dtypes: float64(31), int64(1), object(1)\n",
            "memory usage: 146.8+ KB\n"
          ]
        }
      ]
    },
    {
      "cell_type": "code",
      "source": [
        "df.sample(10)"
      ],
      "metadata": {
        "colab": {
          "base_uri": "https://localhost:8080/",
          "height": 473
        },
        "id": "-lwrjU6qMK56",
        "outputId": "73df4026-8223-4feb-921e-bc63f292eeef"
      },
      "execution_count": 375,
      "outputs": [
        {
          "output_type": "execute_result",
          "data": {
            "text/plain": [
              "           id diagnosis  radius_mean  texture_mean  perimeter_mean  area_mean  \\\n",
              "510     91550         B       11.740         14.69           76.31      426.0   \n",
              "325  89511502         B       12.670         17.30           81.25      489.9   \n",
              "373    901288         M       20.640         17.35          134.80     1335.0   \n",
              "262    888570         M       17.290         22.13          114.40      947.8   \n",
              "79    8610908         B       12.860         18.00           83.19      506.3   \n",
              "341    898143         B        9.606         16.84           61.64      280.5   \n",
              "506  91544001         B       12.220         20.04           79.47      453.1   \n",
              "232  88203002         B       11.220         33.81           70.79      386.8   \n",
              "99     862548         M       14.420         19.77           94.48      642.5   \n",
              "242    883852         B       11.300         18.19           73.93      389.4   \n",
              "\n",
              "     smoothness_mean  compactness_mean  concavity_mean  concave points_mean  \\\n",
              "510          0.08099           0.09661        0.067260             0.026390   \n",
              "325          0.10280           0.07664        0.031930             0.021070   \n",
              "373          0.09446           0.10760        0.152700             0.089410   \n",
              "262          0.08999           0.12730        0.096970             0.075070   \n",
              "79           0.09934           0.09546        0.038890             0.023150   \n",
              "341          0.08481           0.09228        0.084220             0.022920   \n",
              "506          0.10960           0.11520        0.081750             0.021660   \n",
              "232          0.07780           0.03574        0.004967             0.006434   \n",
              "99           0.09752           0.11410        0.093880             0.058390   \n",
              "242          0.09592           0.13250        0.154800             0.028540   \n",
              "\n",
              "     ...  texture_worst  perimeter_worst  area_worst  smoothness_worst  \\\n",
              "510  ...          17.60            81.25       473.8           0.10730   \n",
              "325  ...          21.10            88.70       574.4           0.13840   \n",
              "373  ...          23.17           166.80      1946.0           0.15620   \n",
              "262  ...          27.24           137.90      1295.0           0.11340   \n",
              "79   ...          24.82            91.88       622.1           0.12890   \n",
              "341  ...          23.07            71.25       353.6           0.12330   \n",
              "506  ...          24.17            85.13       515.3           0.14020   \n",
              "232  ...          41.78            78.44       470.9           0.09994   \n",
              "99   ...          30.86           109.50       826.4           0.14310   \n",
              "242  ...          27.96            87.16       472.9           0.13470   \n",
              "\n",
              "     compactness_worst  concavity_worst  concave points_worst  symmetry_worst  \\\n",
              "510            0.27930          0.26900               0.10560          0.2604   \n",
              "325            0.12120          0.10200               0.05602          0.2688   \n",
              "373            0.30550          0.41590               0.21120          0.2689   \n",
              "262            0.28670          0.22980               0.15280          0.3067   \n",
              "79             0.21410          0.17310               0.07926          0.2779   \n",
              "341            0.34160          0.43410               0.08120          0.2982   \n",
              "506            0.23150          0.35350               0.08088          0.2709   \n",
              "232            0.06885          0.02318               0.03002          0.2911   \n",
              "99             0.30260          0.31940               0.15650          0.2718   \n",
              "242            0.48480          0.74360               0.12180          0.3308   \n",
              "\n",
              "     fractal_dimension_worst  Unnamed: 32  \n",
              "510                  0.09879          NaN  \n",
              "325                  0.06888          NaN  \n",
              "373                  0.07055          NaN  \n",
              "262                  0.07484          NaN  \n",
              "79                   0.07918          NaN  \n",
              "341                  0.09825          NaN  \n",
              "506                  0.08839          NaN  \n",
              "232                  0.07307          NaN  \n",
              "99                   0.09353          NaN  \n",
              "242                  0.12970          NaN  \n",
              "\n",
              "[10 rows x 33 columns]"
            ],
            "text/html": [
              "\n",
              "  <div id=\"df-9866b4bc-d8ed-433b-828e-4d202d3e0999\">\n",
              "    <div class=\"colab-df-container\">\n",
              "      <div>\n",
              "<style scoped>\n",
              "    .dataframe tbody tr th:only-of-type {\n",
              "        vertical-align: middle;\n",
              "    }\n",
              "\n",
              "    .dataframe tbody tr th {\n",
              "        vertical-align: top;\n",
              "    }\n",
              "\n",
              "    .dataframe thead th {\n",
              "        text-align: right;\n",
              "    }\n",
              "</style>\n",
              "<table border=\"1\" class=\"dataframe\">\n",
              "  <thead>\n",
              "    <tr style=\"text-align: right;\">\n",
              "      <th></th>\n",
              "      <th>id</th>\n",
              "      <th>diagnosis</th>\n",
              "      <th>radius_mean</th>\n",
              "      <th>texture_mean</th>\n",
              "      <th>perimeter_mean</th>\n",
              "      <th>area_mean</th>\n",
              "      <th>smoothness_mean</th>\n",
              "      <th>compactness_mean</th>\n",
              "      <th>concavity_mean</th>\n",
              "      <th>concave points_mean</th>\n",
              "      <th>...</th>\n",
              "      <th>texture_worst</th>\n",
              "      <th>perimeter_worst</th>\n",
              "      <th>area_worst</th>\n",
              "      <th>smoothness_worst</th>\n",
              "      <th>compactness_worst</th>\n",
              "      <th>concavity_worst</th>\n",
              "      <th>concave points_worst</th>\n",
              "      <th>symmetry_worst</th>\n",
              "      <th>fractal_dimension_worst</th>\n",
              "      <th>Unnamed: 32</th>\n",
              "    </tr>\n",
              "  </thead>\n",
              "  <tbody>\n",
              "    <tr>\n",
              "      <th>510</th>\n",
              "      <td>91550</td>\n",
              "      <td>B</td>\n",
              "      <td>11.740</td>\n",
              "      <td>14.69</td>\n",
              "      <td>76.31</td>\n",
              "      <td>426.0</td>\n",
              "      <td>0.08099</td>\n",
              "      <td>0.09661</td>\n",
              "      <td>0.067260</td>\n",
              "      <td>0.026390</td>\n",
              "      <td>...</td>\n",
              "      <td>17.60</td>\n",
              "      <td>81.25</td>\n",
              "      <td>473.8</td>\n",
              "      <td>0.10730</td>\n",
              "      <td>0.27930</td>\n",
              "      <td>0.26900</td>\n",
              "      <td>0.10560</td>\n",
              "      <td>0.2604</td>\n",
              "      <td>0.09879</td>\n",
              "      <td>NaN</td>\n",
              "    </tr>\n",
              "    <tr>\n",
              "      <th>325</th>\n",
              "      <td>89511502</td>\n",
              "      <td>B</td>\n",
              "      <td>12.670</td>\n",
              "      <td>17.30</td>\n",
              "      <td>81.25</td>\n",
              "      <td>489.9</td>\n",
              "      <td>0.10280</td>\n",
              "      <td>0.07664</td>\n",
              "      <td>0.031930</td>\n",
              "      <td>0.021070</td>\n",
              "      <td>...</td>\n",
              "      <td>21.10</td>\n",
              "      <td>88.70</td>\n",
              "      <td>574.4</td>\n",
              "      <td>0.13840</td>\n",
              "      <td>0.12120</td>\n",
              "      <td>0.10200</td>\n",
              "      <td>0.05602</td>\n",
              "      <td>0.2688</td>\n",
              "      <td>0.06888</td>\n",
              "      <td>NaN</td>\n",
              "    </tr>\n",
              "    <tr>\n",
              "      <th>373</th>\n",
              "      <td>901288</td>\n",
              "      <td>M</td>\n",
              "      <td>20.640</td>\n",
              "      <td>17.35</td>\n",
              "      <td>134.80</td>\n",
              "      <td>1335.0</td>\n",
              "      <td>0.09446</td>\n",
              "      <td>0.10760</td>\n",
              "      <td>0.152700</td>\n",
              "      <td>0.089410</td>\n",
              "      <td>...</td>\n",
              "      <td>23.17</td>\n",
              "      <td>166.80</td>\n",
              "      <td>1946.0</td>\n",
              "      <td>0.15620</td>\n",
              "      <td>0.30550</td>\n",
              "      <td>0.41590</td>\n",
              "      <td>0.21120</td>\n",
              "      <td>0.2689</td>\n",
              "      <td>0.07055</td>\n",
              "      <td>NaN</td>\n",
              "    </tr>\n",
              "    <tr>\n",
              "      <th>262</th>\n",
              "      <td>888570</td>\n",
              "      <td>M</td>\n",
              "      <td>17.290</td>\n",
              "      <td>22.13</td>\n",
              "      <td>114.40</td>\n",
              "      <td>947.8</td>\n",
              "      <td>0.08999</td>\n",
              "      <td>0.12730</td>\n",
              "      <td>0.096970</td>\n",
              "      <td>0.075070</td>\n",
              "      <td>...</td>\n",
              "      <td>27.24</td>\n",
              "      <td>137.90</td>\n",
              "      <td>1295.0</td>\n",
              "      <td>0.11340</td>\n",
              "      <td>0.28670</td>\n",
              "      <td>0.22980</td>\n",
              "      <td>0.15280</td>\n",
              "      <td>0.3067</td>\n",
              "      <td>0.07484</td>\n",
              "      <td>NaN</td>\n",
              "    </tr>\n",
              "    <tr>\n",
              "      <th>79</th>\n",
              "      <td>8610908</td>\n",
              "      <td>B</td>\n",
              "      <td>12.860</td>\n",
              "      <td>18.00</td>\n",
              "      <td>83.19</td>\n",
              "      <td>506.3</td>\n",
              "      <td>0.09934</td>\n",
              "      <td>0.09546</td>\n",
              "      <td>0.038890</td>\n",
              "      <td>0.023150</td>\n",
              "      <td>...</td>\n",
              "      <td>24.82</td>\n",
              "      <td>91.88</td>\n",
              "      <td>622.1</td>\n",
              "      <td>0.12890</td>\n",
              "      <td>0.21410</td>\n",
              "      <td>0.17310</td>\n",
              "      <td>0.07926</td>\n",
              "      <td>0.2779</td>\n",
              "      <td>0.07918</td>\n",
              "      <td>NaN</td>\n",
              "    </tr>\n",
              "    <tr>\n",
              "      <th>341</th>\n",
              "      <td>898143</td>\n",
              "      <td>B</td>\n",
              "      <td>9.606</td>\n",
              "      <td>16.84</td>\n",
              "      <td>61.64</td>\n",
              "      <td>280.5</td>\n",
              "      <td>0.08481</td>\n",
              "      <td>0.09228</td>\n",
              "      <td>0.084220</td>\n",
              "      <td>0.022920</td>\n",
              "      <td>...</td>\n",
              "      <td>23.07</td>\n",
              "      <td>71.25</td>\n",
              "      <td>353.6</td>\n",
              "      <td>0.12330</td>\n",
              "      <td>0.34160</td>\n",
              "      <td>0.43410</td>\n",
              "      <td>0.08120</td>\n",
              "      <td>0.2982</td>\n",
              "      <td>0.09825</td>\n",
              "      <td>NaN</td>\n",
              "    </tr>\n",
              "    <tr>\n",
              "      <th>506</th>\n",
              "      <td>91544001</td>\n",
              "      <td>B</td>\n",
              "      <td>12.220</td>\n",
              "      <td>20.04</td>\n",
              "      <td>79.47</td>\n",
              "      <td>453.1</td>\n",
              "      <td>0.10960</td>\n",
              "      <td>0.11520</td>\n",
              "      <td>0.081750</td>\n",
              "      <td>0.021660</td>\n",
              "      <td>...</td>\n",
              "      <td>24.17</td>\n",
              "      <td>85.13</td>\n",
              "      <td>515.3</td>\n",
              "      <td>0.14020</td>\n",
              "      <td>0.23150</td>\n",
              "      <td>0.35350</td>\n",
              "      <td>0.08088</td>\n",
              "      <td>0.2709</td>\n",
              "      <td>0.08839</td>\n",
              "      <td>NaN</td>\n",
              "    </tr>\n",
              "    <tr>\n",
              "      <th>232</th>\n",
              "      <td>88203002</td>\n",
              "      <td>B</td>\n",
              "      <td>11.220</td>\n",
              "      <td>33.81</td>\n",
              "      <td>70.79</td>\n",
              "      <td>386.8</td>\n",
              "      <td>0.07780</td>\n",
              "      <td>0.03574</td>\n",
              "      <td>0.004967</td>\n",
              "      <td>0.006434</td>\n",
              "      <td>...</td>\n",
              "      <td>41.78</td>\n",
              "      <td>78.44</td>\n",
              "      <td>470.9</td>\n",
              "      <td>0.09994</td>\n",
              "      <td>0.06885</td>\n",
              "      <td>0.02318</td>\n",
              "      <td>0.03002</td>\n",
              "      <td>0.2911</td>\n",
              "      <td>0.07307</td>\n",
              "      <td>NaN</td>\n",
              "    </tr>\n",
              "    <tr>\n",
              "      <th>99</th>\n",
              "      <td>862548</td>\n",
              "      <td>M</td>\n",
              "      <td>14.420</td>\n",
              "      <td>19.77</td>\n",
              "      <td>94.48</td>\n",
              "      <td>642.5</td>\n",
              "      <td>0.09752</td>\n",
              "      <td>0.11410</td>\n",
              "      <td>0.093880</td>\n",
              "      <td>0.058390</td>\n",
              "      <td>...</td>\n",
              "      <td>30.86</td>\n",
              "      <td>109.50</td>\n",
              "      <td>826.4</td>\n",
              "      <td>0.14310</td>\n",
              "      <td>0.30260</td>\n",
              "      <td>0.31940</td>\n",
              "      <td>0.15650</td>\n",
              "      <td>0.2718</td>\n",
              "      <td>0.09353</td>\n",
              "      <td>NaN</td>\n",
              "    </tr>\n",
              "    <tr>\n",
              "      <th>242</th>\n",
              "      <td>883852</td>\n",
              "      <td>B</td>\n",
              "      <td>11.300</td>\n",
              "      <td>18.19</td>\n",
              "      <td>73.93</td>\n",
              "      <td>389.4</td>\n",
              "      <td>0.09592</td>\n",
              "      <td>0.13250</td>\n",
              "      <td>0.154800</td>\n",
              "      <td>0.028540</td>\n",
              "      <td>...</td>\n",
              "      <td>27.96</td>\n",
              "      <td>87.16</td>\n",
              "      <td>472.9</td>\n",
              "      <td>0.13470</td>\n",
              "      <td>0.48480</td>\n",
              "      <td>0.74360</td>\n",
              "      <td>0.12180</td>\n",
              "      <td>0.3308</td>\n",
              "      <td>0.12970</td>\n",
              "      <td>NaN</td>\n",
              "    </tr>\n",
              "  </tbody>\n",
              "</table>\n",
              "<p>10 rows × 33 columns</p>\n",
              "</div>\n",
              "      <button class=\"colab-df-convert\" onclick=\"convertToInteractive('df-9866b4bc-d8ed-433b-828e-4d202d3e0999')\"\n",
              "              title=\"Convert this dataframe to an interactive table.\"\n",
              "              style=\"display:none;\">\n",
              "        \n",
              "  <svg xmlns=\"http://www.w3.org/2000/svg\" height=\"24px\"viewBox=\"0 0 24 24\"\n",
              "       width=\"24px\">\n",
              "    <path d=\"M0 0h24v24H0V0z\" fill=\"none\"/>\n",
              "    <path d=\"M18.56 5.44l.94 2.06.94-2.06 2.06-.94-2.06-.94-.94-2.06-.94 2.06-2.06.94zm-11 1L8.5 8.5l.94-2.06 2.06-.94-2.06-.94L8.5 2.5l-.94 2.06-2.06.94zm10 10l.94 2.06.94-2.06 2.06-.94-2.06-.94-.94-2.06-.94 2.06-2.06.94z\"/><path d=\"M17.41 7.96l-1.37-1.37c-.4-.4-.92-.59-1.43-.59-.52 0-1.04.2-1.43.59L10.3 9.45l-7.72 7.72c-.78.78-.78 2.05 0 2.83L4 21.41c.39.39.9.59 1.41.59.51 0 1.02-.2 1.41-.59l7.78-7.78 2.81-2.81c.8-.78.8-2.07 0-2.86zM5.41 20L4 18.59l7.72-7.72 1.47 1.35L5.41 20z\"/>\n",
              "  </svg>\n",
              "      </button>\n",
              "      \n",
              "  <style>\n",
              "    .colab-df-container {\n",
              "      display:flex;\n",
              "      flex-wrap:wrap;\n",
              "      gap: 12px;\n",
              "    }\n",
              "\n",
              "    .colab-df-convert {\n",
              "      background-color: #E8F0FE;\n",
              "      border: none;\n",
              "      border-radius: 50%;\n",
              "      cursor: pointer;\n",
              "      display: none;\n",
              "      fill: #1967D2;\n",
              "      height: 32px;\n",
              "      padding: 0 0 0 0;\n",
              "      width: 32px;\n",
              "    }\n",
              "\n",
              "    .colab-df-convert:hover {\n",
              "      background-color: #E2EBFA;\n",
              "      box-shadow: 0px 1px 2px rgba(60, 64, 67, 0.3), 0px 1px 3px 1px rgba(60, 64, 67, 0.15);\n",
              "      fill: #174EA6;\n",
              "    }\n",
              "\n",
              "    [theme=dark] .colab-df-convert {\n",
              "      background-color: #3B4455;\n",
              "      fill: #D2E3FC;\n",
              "    }\n",
              "\n",
              "    [theme=dark] .colab-df-convert:hover {\n",
              "      background-color: #434B5C;\n",
              "      box-shadow: 0px 1px 3px 1px rgba(0, 0, 0, 0.15);\n",
              "      filter: drop-shadow(0px 1px 2px rgba(0, 0, 0, 0.3));\n",
              "      fill: #FFFFFF;\n",
              "    }\n",
              "  </style>\n",
              "\n",
              "      <script>\n",
              "        const buttonEl =\n",
              "          document.querySelector('#df-9866b4bc-d8ed-433b-828e-4d202d3e0999 button.colab-df-convert');\n",
              "        buttonEl.style.display =\n",
              "          google.colab.kernel.accessAllowed ? 'block' : 'none';\n",
              "\n",
              "        async function convertToInteractive(key) {\n",
              "          const element = document.querySelector('#df-9866b4bc-d8ed-433b-828e-4d202d3e0999');\n",
              "          const dataTable =\n",
              "            await google.colab.kernel.invokeFunction('convertToInteractive',\n",
              "                                                     [key], {});\n",
              "          if (!dataTable) return;\n",
              "\n",
              "          const docLinkHtml = 'Like what you see? Visit the ' +\n",
              "            '<a target=\"_blank\" href=https://colab.research.google.com/notebooks/data_table.ipynb>data table notebook</a>'\n",
              "            + ' to learn more about interactive tables.';\n",
              "          element.innerHTML = '';\n",
              "          dataTable['output_type'] = 'display_data';\n",
              "          await google.colab.output.renderOutput(dataTable, element);\n",
              "          const docLink = document.createElement('div');\n",
              "          docLink.innerHTML = docLinkHtml;\n",
              "          element.appendChild(docLink);\n",
              "        }\n",
              "      </script>\n",
              "    </div>\n",
              "  </div>\n",
              "  "
            ]
          },
          "metadata": {},
          "execution_count": 375
        }
      ]
    },
    {
      "cell_type": "markdown",
      "source": [
        "dropping columns which dont have relevant trianing parameters"
      ],
      "metadata": {
        "id": "b0b41HKn19Fp"
      }
    },
    {
      "cell_type": "code",
      "source": [
        "X=df.drop(columns=['id','diagnosis','Unnamed: 32'])\n",
        "y=df['diagnosis']\n",
        "X.shape\n",
        "\n",
        "\n"
      ],
      "metadata": {
        "colab": {
          "base_uri": "https://localhost:8080/"
        },
        "id": "BPY7tgwXMgP6",
        "outputId": "bc498a9b-ed21-4641-b823-835cb55462b1"
      },
      "execution_count": 376,
      "outputs": [
        {
          "output_type": "execute_result",
          "data": {
            "text/plain": [
              "(569, 30)"
            ]
          },
          "metadata": {},
          "execution_count": 376
        }
      ]
    },
    {
      "cell_type": "markdown",
      "source": [
        "##labelling"
      ],
      "metadata": {
        "id": "QsN1m_OP2K6t"
      }
    },
    {
      "cell_type": "code",
      "source": [
        "from sklearn.preprocessing import LabelEncoder\n",
        "le=LabelEncoder()\n",
        "le.fit(y)\n"
      ],
      "metadata": {
        "colab": {
          "base_uri": "https://localhost:8080/",
          "height": 74
        },
        "id": "-O_n782_Oaqj",
        "outputId": "c6fca155-20fd-4637-d855-ce4c146e8210"
      },
      "execution_count": 377,
      "outputs": [
        {
          "output_type": "execute_result",
          "data": {
            "text/plain": [
              "LabelEncoder()"
            ],
            "text/html": [
              "<style>#sk-container-id-13 {color: black;background-color: white;}#sk-container-id-13 pre{padding: 0;}#sk-container-id-13 div.sk-toggleable {background-color: white;}#sk-container-id-13 label.sk-toggleable__label {cursor: pointer;display: block;width: 100%;margin-bottom: 0;padding: 0.3em;box-sizing: border-box;text-align: center;}#sk-container-id-13 label.sk-toggleable__label-arrow:before {content: \"▸\";float: left;margin-right: 0.25em;color: #696969;}#sk-container-id-13 label.sk-toggleable__label-arrow:hover:before {color: black;}#sk-container-id-13 div.sk-estimator:hover label.sk-toggleable__label-arrow:before {color: black;}#sk-container-id-13 div.sk-toggleable__content {max-height: 0;max-width: 0;overflow: hidden;text-align: left;background-color: #f0f8ff;}#sk-container-id-13 div.sk-toggleable__content pre {margin: 0.2em;color: black;border-radius: 0.25em;background-color: #f0f8ff;}#sk-container-id-13 input.sk-toggleable__control:checked~div.sk-toggleable__content {max-height: 200px;max-width: 100%;overflow: auto;}#sk-container-id-13 input.sk-toggleable__control:checked~label.sk-toggleable__label-arrow:before {content: \"▾\";}#sk-container-id-13 div.sk-estimator input.sk-toggleable__control:checked~label.sk-toggleable__label {background-color: #d4ebff;}#sk-container-id-13 div.sk-label input.sk-toggleable__control:checked~label.sk-toggleable__label {background-color: #d4ebff;}#sk-container-id-13 input.sk-hidden--visually {border: 0;clip: rect(1px 1px 1px 1px);clip: rect(1px, 1px, 1px, 1px);height: 1px;margin: -1px;overflow: hidden;padding: 0;position: absolute;width: 1px;}#sk-container-id-13 div.sk-estimator {font-family: monospace;background-color: #f0f8ff;border: 1px dotted black;border-radius: 0.25em;box-sizing: border-box;margin-bottom: 0.5em;}#sk-container-id-13 div.sk-estimator:hover {background-color: #d4ebff;}#sk-container-id-13 div.sk-parallel-item::after {content: \"\";width: 100%;border-bottom: 1px solid gray;flex-grow: 1;}#sk-container-id-13 div.sk-label:hover label.sk-toggleable__label {background-color: #d4ebff;}#sk-container-id-13 div.sk-serial::before {content: \"\";position: absolute;border-left: 1px solid gray;box-sizing: border-box;top: 0;bottom: 0;left: 50%;z-index: 0;}#sk-container-id-13 div.sk-serial {display: flex;flex-direction: column;align-items: center;background-color: white;padding-right: 0.2em;padding-left: 0.2em;position: relative;}#sk-container-id-13 div.sk-item {position: relative;z-index: 1;}#sk-container-id-13 div.sk-parallel {display: flex;align-items: stretch;justify-content: center;background-color: white;position: relative;}#sk-container-id-13 div.sk-item::before, #sk-container-id-13 div.sk-parallel-item::before {content: \"\";position: absolute;border-left: 1px solid gray;box-sizing: border-box;top: 0;bottom: 0;left: 50%;z-index: -1;}#sk-container-id-13 div.sk-parallel-item {display: flex;flex-direction: column;z-index: 1;position: relative;background-color: white;}#sk-container-id-13 div.sk-parallel-item:first-child::after {align-self: flex-end;width: 50%;}#sk-container-id-13 div.sk-parallel-item:last-child::after {align-self: flex-start;width: 50%;}#sk-container-id-13 div.sk-parallel-item:only-child::after {width: 0;}#sk-container-id-13 div.sk-dashed-wrapped {border: 1px dashed gray;margin: 0 0.4em 0.5em 0.4em;box-sizing: border-box;padding-bottom: 0.4em;background-color: white;}#sk-container-id-13 div.sk-label label {font-family: monospace;font-weight: bold;display: inline-block;line-height: 1.2em;}#sk-container-id-13 div.sk-label-container {text-align: center;}#sk-container-id-13 div.sk-container {/* jupyter's `normalize.less` sets `[hidden] { display: none; }` but bootstrap.min.css set `[hidden] { display: none !important; }` so we also need the `!important` here to be able to override the default hidden behavior on the sphinx rendered scikit-learn.org. See: https://github.com/scikit-learn/scikit-learn/issues/21755 */display: inline-block !important;position: relative;}#sk-container-id-13 div.sk-text-repr-fallback {display: none;}</style><div id=\"sk-container-id-13\" class=\"sk-top-container\"><div class=\"sk-text-repr-fallback\"><pre>LabelEncoder()</pre><b>In a Jupyter environment, please rerun this cell to show the HTML representation or trust the notebook. <br />On GitHub, the HTML representation is unable to render, please try loading this page with nbviewer.org.</b></div><div class=\"sk-container\" hidden><div class=\"sk-item\"><div class=\"sk-estimator sk-toggleable\"><input class=\"sk-toggleable__control sk-hidden--visually\" id=\"sk-estimator-id-13\" type=\"checkbox\" checked><label for=\"sk-estimator-id-13\" class=\"sk-toggleable__label sk-toggleable__label-arrow\">LabelEncoder</label><div class=\"sk-toggleable__content\"><pre>LabelEncoder()</pre></div></div></div></div></div>"
            ]
          },
          "metadata": {},
          "execution_count": 377
        }
      ]
    },
    {
      "cell_type": "code",
      "source": [
        "y=le.transform(y)"
      ],
      "metadata": {
        "id": "sipvGWH2SZmh"
      },
      "execution_count": 378,
      "outputs": []
    },
    {
      "cell_type": "code",
      "source": [
        "y=pd.DataFrame(y)\n",
        "y.sample(10)"
      ],
      "metadata": {
        "colab": {
          "base_uri": "https://localhost:8080/",
          "height": 363
        },
        "id": "ZF8yX7LgSgKF",
        "outputId": "77dd4ec5-c921-48a5-8499-8f8bebf444c4"
      },
      "execution_count": 379,
      "outputs": [
        {
          "output_type": "execute_result",
          "data": {
            "text/plain": [
              "     0\n",
              "383  0\n",
              "251  0\n",
              "300  1\n",
              "447  0\n",
              "145  0\n",
              "26   1\n",
              "356  0\n",
              "414  1\n",
              "533  1\n",
              "309  0"
            ],
            "text/html": [
              "\n",
              "  <div id=\"df-9876d5b2-93e4-4464-a943-af46651f3798\">\n",
              "    <div class=\"colab-df-container\">\n",
              "      <div>\n",
              "<style scoped>\n",
              "    .dataframe tbody tr th:only-of-type {\n",
              "        vertical-align: middle;\n",
              "    }\n",
              "\n",
              "    .dataframe tbody tr th {\n",
              "        vertical-align: top;\n",
              "    }\n",
              "\n",
              "    .dataframe thead th {\n",
              "        text-align: right;\n",
              "    }\n",
              "</style>\n",
              "<table border=\"1\" class=\"dataframe\">\n",
              "  <thead>\n",
              "    <tr style=\"text-align: right;\">\n",
              "      <th></th>\n",
              "      <th>0</th>\n",
              "    </tr>\n",
              "  </thead>\n",
              "  <tbody>\n",
              "    <tr>\n",
              "      <th>383</th>\n",
              "      <td>0</td>\n",
              "    </tr>\n",
              "    <tr>\n",
              "      <th>251</th>\n",
              "      <td>0</td>\n",
              "    </tr>\n",
              "    <tr>\n",
              "      <th>300</th>\n",
              "      <td>1</td>\n",
              "    </tr>\n",
              "    <tr>\n",
              "      <th>447</th>\n",
              "      <td>0</td>\n",
              "    </tr>\n",
              "    <tr>\n",
              "      <th>145</th>\n",
              "      <td>0</td>\n",
              "    </tr>\n",
              "    <tr>\n",
              "      <th>26</th>\n",
              "      <td>1</td>\n",
              "    </tr>\n",
              "    <tr>\n",
              "      <th>356</th>\n",
              "      <td>0</td>\n",
              "    </tr>\n",
              "    <tr>\n",
              "      <th>414</th>\n",
              "      <td>1</td>\n",
              "    </tr>\n",
              "    <tr>\n",
              "      <th>533</th>\n",
              "      <td>1</td>\n",
              "    </tr>\n",
              "    <tr>\n",
              "      <th>309</th>\n",
              "      <td>0</td>\n",
              "    </tr>\n",
              "  </tbody>\n",
              "</table>\n",
              "</div>\n",
              "      <button class=\"colab-df-convert\" onclick=\"convertToInteractive('df-9876d5b2-93e4-4464-a943-af46651f3798')\"\n",
              "              title=\"Convert this dataframe to an interactive table.\"\n",
              "              style=\"display:none;\">\n",
              "        \n",
              "  <svg xmlns=\"http://www.w3.org/2000/svg\" height=\"24px\"viewBox=\"0 0 24 24\"\n",
              "       width=\"24px\">\n",
              "    <path d=\"M0 0h24v24H0V0z\" fill=\"none\"/>\n",
              "    <path d=\"M18.56 5.44l.94 2.06.94-2.06 2.06-.94-2.06-.94-.94-2.06-.94 2.06-2.06.94zm-11 1L8.5 8.5l.94-2.06 2.06-.94-2.06-.94L8.5 2.5l-.94 2.06-2.06.94zm10 10l.94 2.06.94-2.06 2.06-.94-2.06-.94-.94-2.06-.94 2.06-2.06.94z\"/><path d=\"M17.41 7.96l-1.37-1.37c-.4-.4-.92-.59-1.43-.59-.52 0-1.04.2-1.43.59L10.3 9.45l-7.72 7.72c-.78.78-.78 2.05 0 2.83L4 21.41c.39.39.9.59 1.41.59.51 0 1.02-.2 1.41-.59l7.78-7.78 2.81-2.81c.8-.78.8-2.07 0-2.86zM5.41 20L4 18.59l7.72-7.72 1.47 1.35L5.41 20z\"/>\n",
              "  </svg>\n",
              "      </button>\n",
              "      \n",
              "  <style>\n",
              "    .colab-df-container {\n",
              "      display:flex;\n",
              "      flex-wrap:wrap;\n",
              "      gap: 12px;\n",
              "    }\n",
              "\n",
              "    .colab-df-convert {\n",
              "      background-color: #E8F0FE;\n",
              "      border: none;\n",
              "      border-radius: 50%;\n",
              "      cursor: pointer;\n",
              "      display: none;\n",
              "      fill: #1967D2;\n",
              "      height: 32px;\n",
              "      padding: 0 0 0 0;\n",
              "      width: 32px;\n",
              "    }\n",
              "\n",
              "    .colab-df-convert:hover {\n",
              "      background-color: #E2EBFA;\n",
              "      box-shadow: 0px 1px 2px rgba(60, 64, 67, 0.3), 0px 1px 3px 1px rgba(60, 64, 67, 0.15);\n",
              "      fill: #174EA6;\n",
              "    }\n",
              "\n",
              "    [theme=dark] .colab-df-convert {\n",
              "      background-color: #3B4455;\n",
              "      fill: #D2E3FC;\n",
              "    }\n",
              "\n",
              "    [theme=dark] .colab-df-convert:hover {\n",
              "      background-color: #434B5C;\n",
              "      box-shadow: 0px 1px 3px 1px rgba(0, 0, 0, 0.15);\n",
              "      filter: drop-shadow(0px 1px 2px rgba(0, 0, 0, 0.3));\n",
              "      fill: #FFFFFF;\n",
              "    }\n",
              "  </style>\n",
              "\n",
              "      <script>\n",
              "        const buttonEl =\n",
              "          document.querySelector('#df-9876d5b2-93e4-4464-a943-af46651f3798 button.colab-df-convert');\n",
              "        buttonEl.style.display =\n",
              "          google.colab.kernel.accessAllowed ? 'block' : 'none';\n",
              "\n",
              "        async function convertToInteractive(key) {\n",
              "          const element = document.querySelector('#df-9876d5b2-93e4-4464-a943-af46651f3798');\n",
              "          const dataTable =\n",
              "            await google.colab.kernel.invokeFunction('convertToInteractive',\n",
              "                                                     [key], {});\n",
              "          if (!dataTable) return;\n",
              "\n",
              "          const docLinkHtml = 'Like what you see? Visit the ' +\n",
              "            '<a target=\"_blank\" href=https://colab.research.google.com/notebooks/data_table.ipynb>data table notebook</a>'\n",
              "            + ' to learn more about interactive tables.';\n",
              "          element.innerHTML = '';\n",
              "          dataTable['output_type'] = 'display_data';\n",
              "          await google.colab.output.renderOutput(dataTable, element);\n",
              "          const docLink = document.createElement('div');\n",
              "          docLink.innerHTML = docLinkHtml;\n",
              "          element.appendChild(docLink);\n",
              "        }\n",
              "      </script>\n",
              "    </div>\n",
              "  </div>\n",
              "  "
            ]
          },
          "metadata": {},
          "execution_count": 379
        }
      ]
    },
    {
      "cell_type": "markdown",
      "source": [
        "## Train test split"
      ],
      "metadata": {
        "id": "j9AjpKO22bIR"
      }
    },
    {
      "cell_type": "code",
      "source": [
        "from sklearn.model_selection import train_test_split\n",
        "X_train,X_test,y_train,y_test=train_test_split(X,y,test_size=0.2)"
      ],
      "metadata": {
        "id": "j79J0g5nSsPI"
      },
      "execution_count": 380,
      "outputs": []
    },
    {
      "cell_type": "code",
      "source": [
        "X_train\n"
      ],
      "metadata": {
        "colab": {
          "base_uri": "https://localhost:8080/",
          "height": 505
        },
        "id": "3HmISgvpS1Zu",
        "outputId": "ca117eee-cbb2-444f-d1aa-2ac33621e208"
      },
      "execution_count": 381,
      "outputs": [
        {
          "output_type": "execute_result",
          "data": {
            "text/plain": [
              "     radius_mean  texture_mean  perimeter_mean  area_mean  smoothness_mean  \\\n",
              "499       20.590         21.24          137.80     1320.0          0.10850   \n",
              "501       13.820         24.49           92.33      595.9          0.11620   \n",
              "357       13.870         16.21           88.52      593.7          0.08743   \n",
              "221       13.560         13.90           88.59      561.3          0.10510   \n",
              "12        19.170         24.80          132.40     1123.0          0.09740   \n",
              "..           ...           ...             ...        ...              ...   \n",
              "42        19.070         24.81          128.30     1104.0          0.09081   \n",
              "556       10.160         19.59           64.73      311.7          0.10030   \n",
              "470        9.667         18.49           61.49      289.1          0.08946   \n",
              "523       13.710         18.68           88.73      571.0          0.09916   \n",
              "185       10.080         15.11           63.76      317.5          0.09267   \n",
              "\n",
              "     compactness_mean  concavity_mean  concave points_mean  symmetry_mean  \\\n",
              "499           0.16440        0.218800             0.112100         0.1848   \n",
              "501           0.16810        0.135700             0.067590         0.2275   \n",
              "357           0.05492        0.015020             0.020880         0.1424   \n",
              "221           0.11920        0.078600             0.044510         0.1962   \n",
              "12            0.24580        0.206500             0.111800         0.2397   \n",
              "..                ...             ...                  ...            ...   \n",
              "42            0.21900        0.210700             0.099610         0.2310   \n",
              "556           0.07504        0.005025             0.011160         0.1791   \n",
              "470           0.06258        0.029480             0.015140         0.2238   \n",
              "523           0.10700        0.053850             0.037830         0.1714   \n",
              "185           0.04695        0.001597             0.002404         0.1703   \n",
              "\n",
              "     fractal_dimension_mean  ...  radius_worst  texture_worst  \\\n",
              "499                 0.06222  ...         23.86          30.76   \n",
              "501                 0.07237  ...         16.01          32.94   \n",
              "357                 0.05883  ...         15.11          25.58   \n",
              "221                 0.06303  ...         14.98          17.13   \n",
              "12                  0.07800  ...         20.96          29.94   \n",
              "..                      ...  ...           ...            ...   \n",
              "42                  0.06343  ...         24.09          33.17   \n",
              "556                 0.06331  ...         10.65          22.88   \n",
              "470                 0.06413  ...         11.14          25.62   \n",
              "523                 0.06843  ...         15.11          25.63   \n",
              "185                 0.06048  ...         11.87          21.18   \n",
              "\n",
              "     perimeter_worst  area_worst  smoothness_worst  compactness_worst  \\\n",
              "499           163.20      1760.0            0.1464             0.3597   \n",
              "501           106.00       788.0            0.1794             0.3966   \n",
              "357            96.74       694.4            0.1153             0.1008   \n",
              "221           101.10       686.6            0.1376             0.2698   \n",
              "12            151.70      1332.0            0.1037             0.3903   \n",
              "..               ...         ...               ...                ...   \n",
              "42            177.40      1651.0            0.1247             0.7444   \n",
              "556            67.88       347.3            0.1265             0.1200   \n",
              "470            70.88       385.2            0.1234             0.1542   \n",
              "523            99.43       701.9            0.1425             0.2566   \n",
              "185            75.39       437.0            0.1521             0.1019   \n",
              "\n",
              "     concavity_worst  concave points_worst  symmetry_worst  \\\n",
              "499          0.51790               0.21130          0.2480   \n",
              "501          0.33810               0.15210          0.3651   \n",
              "357          0.05285               0.05556          0.2362   \n",
              "221          0.25770               0.09090          0.3065   \n",
              "12           0.36390               0.17670          0.3176   \n",
              "..               ...                   ...             ...   \n",
              "42           0.72420               0.24930          0.4670   \n",
              "556          0.01005               0.02232          0.2262   \n",
              "470          0.12770               0.06560          0.3174   \n",
              "523          0.19350               0.12840          0.2849   \n",
              "185          0.00692               0.01042          0.2933   \n",
              "\n",
              "     fractal_dimension_worst  \n",
              "499                  0.08999  \n",
              "501                  0.11830  \n",
              "357                  0.07113  \n",
              "221                  0.08177  \n",
              "12                   0.10230  \n",
              "..                       ...  \n",
              "42                   0.10380  \n",
              "556                  0.06742  \n",
              "470                  0.08524  \n",
              "523                  0.09031  \n",
              "185                  0.07697  \n",
              "\n",
              "[455 rows x 30 columns]"
            ],
            "text/html": [
              "\n",
              "  <div id=\"df-f2ec8ca0-bb72-4b73-80ed-ad63d0a36188\">\n",
              "    <div class=\"colab-df-container\">\n",
              "      <div>\n",
              "<style scoped>\n",
              "    .dataframe tbody tr th:only-of-type {\n",
              "        vertical-align: middle;\n",
              "    }\n",
              "\n",
              "    .dataframe tbody tr th {\n",
              "        vertical-align: top;\n",
              "    }\n",
              "\n",
              "    .dataframe thead th {\n",
              "        text-align: right;\n",
              "    }\n",
              "</style>\n",
              "<table border=\"1\" class=\"dataframe\">\n",
              "  <thead>\n",
              "    <tr style=\"text-align: right;\">\n",
              "      <th></th>\n",
              "      <th>radius_mean</th>\n",
              "      <th>texture_mean</th>\n",
              "      <th>perimeter_mean</th>\n",
              "      <th>area_mean</th>\n",
              "      <th>smoothness_mean</th>\n",
              "      <th>compactness_mean</th>\n",
              "      <th>concavity_mean</th>\n",
              "      <th>concave points_mean</th>\n",
              "      <th>symmetry_mean</th>\n",
              "      <th>fractal_dimension_mean</th>\n",
              "      <th>...</th>\n",
              "      <th>radius_worst</th>\n",
              "      <th>texture_worst</th>\n",
              "      <th>perimeter_worst</th>\n",
              "      <th>area_worst</th>\n",
              "      <th>smoothness_worst</th>\n",
              "      <th>compactness_worst</th>\n",
              "      <th>concavity_worst</th>\n",
              "      <th>concave points_worst</th>\n",
              "      <th>symmetry_worst</th>\n",
              "      <th>fractal_dimension_worst</th>\n",
              "    </tr>\n",
              "  </thead>\n",
              "  <tbody>\n",
              "    <tr>\n",
              "      <th>499</th>\n",
              "      <td>20.590</td>\n",
              "      <td>21.24</td>\n",
              "      <td>137.80</td>\n",
              "      <td>1320.0</td>\n",
              "      <td>0.10850</td>\n",
              "      <td>0.16440</td>\n",
              "      <td>0.218800</td>\n",
              "      <td>0.112100</td>\n",
              "      <td>0.1848</td>\n",
              "      <td>0.06222</td>\n",
              "      <td>...</td>\n",
              "      <td>23.86</td>\n",
              "      <td>30.76</td>\n",
              "      <td>163.20</td>\n",
              "      <td>1760.0</td>\n",
              "      <td>0.1464</td>\n",
              "      <td>0.3597</td>\n",
              "      <td>0.51790</td>\n",
              "      <td>0.21130</td>\n",
              "      <td>0.2480</td>\n",
              "      <td>0.08999</td>\n",
              "    </tr>\n",
              "    <tr>\n",
              "      <th>501</th>\n",
              "      <td>13.820</td>\n",
              "      <td>24.49</td>\n",
              "      <td>92.33</td>\n",
              "      <td>595.9</td>\n",
              "      <td>0.11620</td>\n",
              "      <td>0.16810</td>\n",
              "      <td>0.135700</td>\n",
              "      <td>0.067590</td>\n",
              "      <td>0.2275</td>\n",
              "      <td>0.07237</td>\n",
              "      <td>...</td>\n",
              "      <td>16.01</td>\n",
              "      <td>32.94</td>\n",
              "      <td>106.00</td>\n",
              "      <td>788.0</td>\n",
              "      <td>0.1794</td>\n",
              "      <td>0.3966</td>\n",
              "      <td>0.33810</td>\n",
              "      <td>0.15210</td>\n",
              "      <td>0.3651</td>\n",
              "      <td>0.11830</td>\n",
              "    </tr>\n",
              "    <tr>\n",
              "      <th>357</th>\n",
              "      <td>13.870</td>\n",
              "      <td>16.21</td>\n",
              "      <td>88.52</td>\n",
              "      <td>593.7</td>\n",
              "      <td>0.08743</td>\n",
              "      <td>0.05492</td>\n",
              "      <td>0.015020</td>\n",
              "      <td>0.020880</td>\n",
              "      <td>0.1424</td>\n",
              "      <td>0.05883</td>\n",
              "      <td>...</td>\n",
              "      <td>15.11</td>\n",
              "      <td>25.58</td>\n",
              "      <td>96.74</td>\n",
              "      <td>694.4</td>\n",
              "      <td>0.1153</td>\n",
              "      <td>0.1008</td>\n",
              "      <td>0.05285</td>\n",
              "      <td>0.05556</td>\n",
              "      <td>0.2362</td>\n",
              "      <td>0.07113</td>\n",
              "    </tr>\n",
              "    <tr>\n",
              "      <th>221</th>\n",
              "      <td>13.560</td>\n",
              "      <td>13.90</td>\n",
              "      <td>88.59</td>\n",
              "      <td>561.3</td>\n",
              "      <td>0.10510</td>\n",
              "      <td>0.11920</td>\n",
              "      <td>0.078600</td>\n",
              "      <td>0.044510</td>\n",
              "      <td>0.1962</td>\n",
              "      <td>0.06303</td>\n",
              "      <td>...</td>\n",
              "      <td>14.98</td>\n",
              "      <td>17.13</td>\n",
              "      <td>101.10</td>\n",
              "      <td>686.6</td>\n",
              "      <td>0.1376</td>\n",
              "      <td>0.2698</td>\n",
              "      <td>0.25770</td>\n",
              "      <td>0.09090</td>\n",
              "      <td>0.3065</td>\n",
              "      <td>0.08177</td>\n",
              "    </tr>\n",
              "    <tr>\n",
              "      <th>12</th>\n",
              "      <td>19.170</td>\n",
              "      <td>24.80</td>\n",
              "      <td>132.40</td>\n",
              "      <td>1123.0</td>\n",
              "      <td>0.09740</td>\n",
              "      <td>0.24580</td>\n",
              "      <td>0.206500</td>\n",
              "      <td>0.111800</td>\n",
              "      <td>0.2397</td>\n",
              "      <td>0.07800</td>\n",
              "      <td>...</td>\n",
              "      <td>20.96</td>\n",
              "      <td>29.94</td>\n",
              "      <td>151.70</td>\n",
              "      <td>1332.0</td>\n",
              "      <td>0.1037</td>\n",
              "      <td>0.3903</td>\n",
              "      <td>0.36390</td>\n",
              "      <td>0.17670</td>\n",
              "      <td>0.3176</td>\n",
              "      <td>0.10230</td>\n",
              "    </tr>\n",
              "    <tr>\n",
              "      <th>...</th>\n",
              "      <td>...</td>\n",
              "      <td>...</td>\n",
              "      <td>...</td>\n",
              "      <td>...</td>\n",
              "      <td>...</td>\n",
              "      <td>...</td>\n",
              "      <td>...</td>\n",
              "      <td>...</td>\n",
              "      <td>...</td>\n",
              "      <td>...</td>\n",
              "      <td>...</td>\n",
              "      <td>...</td>\n",
              "      <td>...</td>\n",
              "      <td>...</td>\n",
              "      <td>...</td>\n",
              "      <td>...</td>\n",
              "      <td>...</td>\n",
              "      <td>...</td>\n",
              "      <td>...</td>\n",
              "      <td>...</td>\n",
              "      <td>...</td>\n",
              "    </tr>\n",
              "    <tr>\n",
              "      <th>42</th>\n",
              "      <td>19.070</td>\n",
              "      <td>24.81</td>\n",
              "      <td>128.30</td>\n",
              "      <td>1104.0</td>\n",
              "      <td>0.09081</td>\n",
              "      <td>0.21900</td>\n",
              "      <td>0.210700</td>\n",
              "      <td>0.099610</td>\n",
              "      <td>0.2310</td>\n",
              "      <td>0.06343</td>\n",
              "      <td>...</td>\n",
              "      <td>24.09</td>\n",
              "      <td>33.17</td>\n",
              "      <td>177.40</td>\n",
              "      <td>1651.0</td>\n",
              "      <td>0.1247</td>\n",
              "      <td>0.7444</td>\n",
              "      <td>0.72420</td>\n",
              "      <td>0.24930</td>\n",
              "      <td>0.4670</td>\n",
              "      <td>0.10380</td>\n",
              "    </tr>\n",
              "    <tr>\n",
              "      <th>556</th>\n",
              "      <td>10.160</td>\n",
              "      <td>19.59</td>\n",
              "      <td>64.73</td>\n",
              "      <td>311.7</td>\n",
              "      <td>0.10030</td>\n",
              "      <td>0.07504</td>\n",
              "      <td>0.005025</td>\n",
              "      <td>0.011160</td>\n",
              "      <td>0.1791</td>\n",
              "      <td>0.06331</td>\n",
              "      <td>...</td>\n",
              "      <td>10.65</td>\n",
              "      <td>22.88</td>\n",
              "      <td>67.88</td>\n",
              "      <td>347.3</td>\n",
              "      <td>0.1265</td>\n",
              "      <td>0.1200</td>\n",
              "      <td>0.01005</td>\n",
              "      <td>0.02232</td>\n",
              "      <td>0.2262</td>\n",
              "      <td>0.06742</td>\n",
              "    </tr>\n",
              "    <tr>\n",
              "      <th>470</th>\n",
              "      <td>9.667</td>\n",
              "      <td>18.49</td>\n",
              "      <td>61.49</td>\n",
              "      <td>289.1</td>\n",
              "      <td>0.08946</td>\n",
              "      <td>0.06258</td>\n",
              "      <td>0.029480</td>\n",
              "      <td>0.015140</td>\n",
              "      <td>0.2238</td>\n",
              "      <td>0.06413</td>\n",
              "      <td>...</td>\n",
              "      <td>11.14</td>\n",
              "      <td>25.62</td>\n",
              "      <td>70.88</td>\n",
              "      <td>385.2</td>\n",
              "      <td>0.1234</td>\n",
              "      <td>0.1542</td>\n",
              "      <td>0.12770</td>\n",
              "      <td>0.06560</td>\n",
              "      <td>0.3174</td>\n",
              "      <td>0.08524</td>\n",
              "    </tr>\n",
              "    <tr>\n",
              "      <th>523</th>\n",
              "      <td>13.710</td>\n",
              "      <td>18.68</td>\n",
              "      <td>88.73</td>\n",
              "      <td>571.0</td>\n",
              "      <td>0.09916</td>\n",
              "      <td>0.10700</td>\n",
              "      <td>0.053850</td>\n",
              "      <td>0.037830</td>\n",
              "      <td>0.1714</td>\n",
              "      <td>0.06843</td>\n",
              "      <td>...</td>\n",
              "      <td>15.11</td>\n",
              "      <td>25.63</td>\n",
              "      <td>99.43</td>\n",
              "      <td>701.9</td>\n",
              "      <td>0.1425</td>\n",
              "      <td>0.2566</td>\n",
              "      <td>0.19350</td>\n",
              "      <td>0.12840</td>\n",
              "      <td>0.2849</td>\n",
              "      <td>0.09031</td>\n",
              "    </tr>\n",
              "    <tr>\n",
              "      <th>185</th>\n",
              "      <td>10.080</td>\n",
              "      <td>15.11</td>\n",
              "      <td>63.76</td>\n",
              "      <td>317.5</td>\n",
              "      <td>0.09267</td>\n",
              "      <td>0.04695</td>\n",
              "      <td>0.001597</td>\n",
              "      <td>0.002404</td>\n",
              "      <td>0.1703</td>\n",
              "      <td>0.06048</td>\n",
              "      <td>...</td>\n",
              "      <td>11.87</td>\n",
              "      <td>21.18</td>\n",
              "      <td>75.39</td>\n",
              "      <td>437.0</td>\n",
              "      <td>0.1521</td>\n",
              "      <td>0.1019</td>\n",
              "      <td>0.00692</td>\n",
              "      <td>0.01042</td>\n",
              "      <td>0.2933</td>\n",
              "      <td>0.07697</td>\n",
              "    </tr>\n",
              "  </tbody>\n",
              "</table>\n",
              "<p>455 rows × 30 columns</p>\n",
              "</div>\n",
              "      <button class=\"colab-df-convert\" onclick=\"convertToInteractive('df-f2ec8ca0-bb72-4b73-80ed-ad63d0a36188')\"\n",
              "              title=\"Convert this dataframe to an interactive table.\"\n",
              "              style=\"display:none;\">\n",
              "        \n",
              "  <svg xmlns=\"http://www.w3.org/2000/svg\" height=\"24px\"viewBox=\"0 0 24 24\"\n",
              "       width=\"24px\">\n",
              "    <path d=\"M0 0h24v24H0V0z\" fill=\"none\"/>\n",
              "    <path d=\"M18.56 5.44l.94 2.06.94-2.06 2.06-.94-2.06-.94-.94-2.06-.94 2.06-2.06.94zm-11 1L8.5 8.5l.94-2.06 2.06-.94-2.06-.94L8.5 2.5l-.94 2.06-2.06.94zm10 10l.94 2.06.94-2.06 2.06-.94-2.06-.94-.94-2.06-.94 2.06-2.06.94z\"/><path d=\"M17.41 7.96l-1.37-1.37c-.4-.4-.92-.59-1.43-.59-.52 0-1.04.2-1.43.59L10.3 9.45l-7.72 7.72c-.78.78-.78 2.05 0 2.83L4 21.41c.39.39.9.59 1.41.59.51 0 1.02-.2 1.41-.59l7.78-7.78 2.81-2.81c.8-.78.8-2.07 0-2.86zM5.41 20L4 18.59l7.72-7.72 1.47 1.35L5.41 20z\"/>\n",
              "  </svg>\n",
              "      </button>\n",
              "      \n",
              "  <style>\n",
              "    .colab-df-container {\n",
              "      display:flex;\n",
              "      flex-wrap:wrap;\n",
              "      gap: 12px;\n",
              "    }\n",
              "\n",
              "    .colab-df-convert {\n",
              "      background-color: #E8F0FE;\n",
              "      border: none;\n",
              "      border-radius: 50%;\n",
              "      cursor: pointer;\n",
              "      display: none;\n",
              "      fill: #1967D2;\n",
              "      height: 32px;\n",
              "      padding: 0 0 0 0;\n",
              "      width: 32px;\n",
              "    }\n",
              "\n",
              "    .colab-df-convert:hover {\n",
              "      background-color: #E2EBFA;\n",
              "      box-shadow: 0px 1px 2px rgba(60, 64, 67, 0.3), 0px 1px 3px 1px rgba(60, 64, 67, 0.15);\n",
              "      fill: #174EA6;\n",
              "    }\n",
              "\n",
              "    [theme=dark] .colab-df-convert {\n",
              "      background-color: #3B4455;\n",
              "      fill: #D2E3FC;\n",
              "    }\n",
              "\n",
              "    [theme=dark] .colab-df-convert:hover {\n",
              "      background-color: #434B5C;\n",
              "      box-shadow: 0px 1px 3px 1px rgba(0, 0, 0, 0.15);\n",
              "      filter: drop-shadow(0px 1px 2px rgba(0, 0, 0, 0.3));\n",
              "      fill: #FFFFFF;\n",
              "    }\n",
              "  </style>\n",
              "\n",
              "      <script>\n",
              "        const buttonEl =\n",
              "          document.querySelector('#df-f2ec8ca0-bb72-4b73-80ed-ad63d0a36188 button.colab-df-convert');\n",
              "        buttonEl.style.display =\n",
              "          google.colab.kernel.accessAllowed ? 'block' : 'none';\n",
              "\n",
              "        async function convertToInteractive(key) {\n",
              "          const element = document.querySelector('#df-f2ec8ca0-bb72-4b73-80ed-ad63d0a36188');\n",
              "          const dataTable =\n",
              "            await google.colab.kernel.invokeFunction('convertToInteractive',\n",
              "                                                     [key], {});\n",
              "          if (!dataTable) return;\n",
              "\n",
              "          const docLinkHtml = 'Like what you see? Visit the ' +\n",
              "            '<a target=\"_blank\" href=https://colab.research.google.com/notebooks/data_table.ipynb>data table notebook</a>'\n",
              "            + ' to learn more about interactive tables.';\n",
              "          element.innerHTML = '';\n",
              "          dataTable['output_type'] = 'display_data';\n",
              "          await google.colab.output.renderOutput(dataTable, element);\n",
              "          const docLink = document.createElement('div');\n",
              "          docLink.innerHTML = docLinkHtml;\n",
              "          element.appendChild(docLink);\n",
              "        }\n",
              "      </script>\n",
              "    </div>\n",
              "  </div>\n",
              "  "
            ]
          },
          "metadata": {},
          "execution_count": 381
        }
      ]
    },
    {
      "cell_type": "code",
      "source": [
        "X_test.shape"
      ],
      "metadata": {
        "colab": {
          "base_uri": "https://localhost:8080/"
        },
        "id": "EZ1_xKxJS5Af",
        "outputId": "8b256304-2f0e-4f6c-c4ae-ee9a0b3b0c21"
      },
      "execution_count": 382,
      "outputs": [
        {
          "output_type": "execute_result",
          "data": {
            "text/plain": [
              "(114, 30)"
            ]
          },
          "metadata": {},
          "execution_count": 382
        }
      ]
    },
    {
      "cell_type": "code",
      "source": [
        "y_test.shape"
      ],
      "metadata": {
        "colab": {
          "base_uri": "https://localhost:8080/"
        },
        "id": "Y7V3NrT-S8hm",
        "outputId": "c823cf00-fba8-417f-b9a1-5feaffca0973"
      },
      "execution_count": 383,
      "outputs": [
        {
          "output_type": "execute_result",
          "data": {
            "text/plain": [
              "(114, 1)"
            ]
          },
          "metadata": {},
          "execution_count": 383
        }
      ]
    },
    {
      "cell_type": "markdown",
      "source": [
        "##StandardScaler"
      ],
      "metadata": {
        "id": "gpVbn9WA2rA8"
      }
    },
    {
      "cell_type": "code",
      "source": [
        "from sklearn.preprocessing import StandardScaler\n",
        "scaler=StandardScaler()\n",
        "X_train_scaled=scaler.fit_transform(X_train)\n",
        "X_test_scaled=scaler.transform(X_test)"
      ],
      "metadata": {
        "id": "ymGiEdC3TA0s"
      },
      "execution_count": 384,
      "outputs": []
    },
    {
      "cell_type": "code",
      "source": [
        "X_train_scaled"
      ],
      "metadata": {
        "colab": {
          "base_uri": "https://localhost:8080/"
        },
        "id": "h3g-_7g-TPia",
        "outputId": "7bfaaf70-728d-4b54-8482-c51f4ab95b27"
      },
      "execution_count": 385,
      "outputs": [
        {
          "output_type": "execute_result",
          "data": {
            "text/plain": [
              "array([[ 1.83564762,  0.44455114,  1.89081144, ...,  1.49204089,\n",
              "        -0.69200834,  0.3480351 ],\n",
              "       [-0.09329577,  1.20360662,  0.01095628, ...,  0.58660635,\n",
              "         1.2508784 ,  1.91835991],\n",
              "       [-0.07904951, -0.73023319, -0.14655962, ..., -0.88992491,\n",
              "        -0.88779026, -0.69810852],\n",
              "       ...,\n",
              "       [-1.27659   , -0.19772657, -1.26405434, ..., -0.7363681 ,\n",
              "         0.45945485,  0.08455778],\n",
              "       [-0.12463754, -0.15335102, -0.13787764, ...,  0.22412665,\n",
              "        -0.07977503,  0.36578515],\n",
              "       [-1.1589159 , -0.98714428, -1.17020628, ..., -1.58031874,\n",
              "         0.05959516, -0.3741701 ]])"
            ]
          },
          "metadata": {},
          "execution_count": 385
        }
      ]
    },
    {
      "cell_type": "code",
      "source": [
        "X_scaled=pd.DataFrame(X_train_scaled , columns=X_train.columns)"
      ],
      "metadata": {
        "id": "bSyqgpfZ6TfQ"
      },
      "execution_count": 386,
      "outputs": []
    },
    {
      "cell_type": "markdown",
      "source": [
        "before scaling"
      ],
      "metadata": {
        "id": "Xpr-CuCr_AhQ"
      }
    },
    {
      "cell_type": "code",
      "source": [
        "sns.kdeplot(X_train['area_mean'])\n",
        "sns.kdeplot(X_train['smoothness_mean'])"
      ],
      "metadata": {
        "colab": {
          "base_uri": "https://localhost:8080/",
          "height": 466
        },
        "id": "WdC-JgFt6w-i",
        "outputId": "e48e905f-a23b-4aae-dad2-7ef5e21abba9"
      },
      "execution_count": 387,
      "outputs": [
        {
          "output_type": "execute_result",
          "data": {
            "text/plain": [
              "<Axes: xlabel='area_mean', ylabel='Density'>"
            ]
          },
          "metadata": {},
          "execution_count": 387
        },
        {
          "output_type": "display_data",
          "data": {
            "text/plain": [
              "<Figure size 640x480 with 1 Axes>"
            ],
            "image/png": "[encoded data removed]"
          },
          "metadata": {}
        }
      ]
    },
    {
      "cell_type": "markdown",
      "source": [
        "after scaling"
      ],
      "metadata": {
        "id": "j8zeBqcW-U1H"
      }
    },
    {
      "cell_type": "code",
      "source": [
        "sns.kdeplot(X_scaled['area_mean'])\n",
        "sns.kdeplot(X_scaled['smoothness_mean'])"
      ],
      "metadata": {
        "colab": {
          "base_uri": "https://localhost:8080/",
          "height": 466
        },
        "id": "2weJSRo--X3N",
        "outputId": "cab4f3b5-1713-41c9-fc7e-4d08f1b5e4d9"
      },
      "execution_count": 388,
      "outputs": [
        {
          "output_type": "execute_result",
          "data": {
            "text/plain": [
              "<Axes: xlabel='area_mean', ylabel='Density'>"
            ]
          },
          "metadata": {},
          "execution_count": 388
        },
        {
          "output_type": "display_data",
          "data": {
            "text/plain": [
              "<Figure size 640x480 with 1 Axes>"
            ],
            "image/png": "[encoded data removed]"
          },
          "metadata": {}
        }
      ]
    },
    {
      "cell_type": "markdown",
      "source": [
        "##Model building"
      ],
      "metadata": {
        "id": "KkX6CBTO3rhu"
      }
    },
    {
      "cell_type": "code",
      "source": [
        "import tensorflow as tf\n",
        "\n",
        "from tensorflow import keras\n",
        "from tensorflow.keras import Sequential\n",
        "from tensorflow.keras.layers import Dense,Dropout"
      ],
      "metadata": {
        "id": "VmvT4dLcTUr6"
      },
      "execution_count": 389,
      "outputs": []
    },
    {
      "cell_type": "code",
      "source": [
        "model=Sequential()\n",
        "model.add(Dense(10,activation='relu',input_dim=30))\n",
        "model.add(Dropout(0.4))\n",
        "model.add(Dense(8,activation='relu'))\n",
        "\n",
        "model.add(Dense(1,activation='sigmoid'))\n",
        "model.compile(optimizer='Adam', loss='binary_crossentropy',metrics=['accuracy'])"
      ],
      "metadata": {
        "id": "AaiyXZyvTcto"
      },
      "execution_count": 390,
      "outputs": []
    },
    {
      "cell_type": "code",
      "source": [
        "model.summary()"
      ],
      "metadata": {
        "colab": {
          "base_uri": "https://localhost:8080/"
        },
        "id": "SZUuLIR6URsZ",
        "outputId": "8b06ecbe-8bb1-4f0d-b152-7ae015a10c04"
      },
      "execution_count": 391,
      "outputs": [
        {
          "output_type": "stream",
          "name": "stdout",
          "text": [
            "Model: \"sequential_14\"\n",
            "_________________________________________________________________\n",
            " Layer (type)                Output Shape              Param #   \n",
            "=================================================================\n",
            " dense_42 (Dense)            (None, 10)                310       \n",
            "                                                                 \n",
            " dropout_16 (Dropout)        (None, 10)                0         \n",
            "                                                                 \n",
            " dense_43 (Dense)            (None, 8)                 88        \n",
            "                                                                 \n",
            " dense_44 (Dense)            (None, 1)                 9         \n",
            "                                                                 \n",
            "=================================================================\n",
            "Total params: 407\n",
            "Trainable params: 407\n",
            "Non-trainable params: 0\n",
            "_________________________________________________________________\n"
          ]
        }
      ]
    },
    {
      "cell_type": "code",
      "source": [
        "history=model.fit(X_train_scaled,y_train,epochs=25, verbose=False, validation_data=(X_test_scaled,y_test) ,batch_size=32)"
      ],
      "metadata": {
        "id": "0Z-LEiatUXp1"
      },
      "execution_count": 392,
      "outputs": []
    },
    {
      "cell_type": "code",
      "source": [
        "y_log=model.predict(X_test_scaled)\n"
      ],
      "metadata": {
        "colab": {
          "base_uri": "https://localhost:8080/"
        },
        "id": "aK41_tKaUogM",
        "outputId": "185afef2-2695-41e8-bd82-7e799b622596"
      },
      "execution_count": 393,
      "outputs": [
        {
          "output_type": "stream",
          "name": "stdout",
          "text": [
            "4/4 [==============================] - 0s 3ms/step\n"
          ]
        }
      ]
    },
    {
      "cell_type": "code",
      "source": [
        "y_pred=np.where(y_log>0.5,1,0)\n",
        "y_pred=pd.DataFrame(y_pred)"
      ],
      "metadata": {
        "id": "d4unQzN-Vk1I"
      },
      "execution_count": 394,
      "outputs": []
    },
    {
      "cell_type": "markdown",
      "source": [
        "#model testing"
      ],
      "metadata": {
        "id": "cUzeja1C34eW"
      }
    },
    {
      "cell_type": "code",
      "source": [
        "from sklearn.metrics import accuracy_score\n",
        "accuracy_score(y_test,y_pred)"
      ],
      "metadata": {
        "colab": {
          "base_uri": "https://localhost:8080/"
        },
        "id": "8afUj9MNV03L",
        "outputId": "d1e628cd-0fd4-4162-df69-94e0fc70e62c"
      },
      "execution_count": 395,
      "outputs": [
        {
          "output_type": "execute_result",
          "data": {
            "text/plain": [
              "0.9824561403508771"
            ]
          },
          "metadata": {},
          "execution_count": 395
        }
      ]
    },
    {
      "cell_type": "markdown",
      "source": [
        "##Training and Validation loss"
      ],
      "metadata": {
        "id": "1XU0UDKL4HTn"
      }
    },
    {
      "cell_type": "code",
      "source": [
        "import matplotlib.pyplot as plt\n",
        "loss=history.history['loss']\n",
        "val_loss=history.history['val_loss']\n",
        "epochs=range(1,len(loss)+1)\n",
        "\n",
        "plt.plot(epochs,loss,'y', label='training loss')\n",
        "plt.plot(epochs,val_loss,'r' , label='validation loss')\n",
        "plt.legend()\n",
        "plt.title('Training and Validation loss')"
      ],
      "metadata": {
        "colab": {
          "base_uri": "https://localhost:8080/",
          "height": 469
        },
        "id": "p_RD6QgzSpMt",
        "outputId": "4ff09994-ce04-4cf5-ad50-e130c249835e"
      },
      "execution_count": 396,
      "outputs": [
        {
          "output_type": "execute_result",
          "data": {
            "text/plain": [
              "Text(0.5, 1.0, 'Training and Validation loss')"
            ]
          },
          "metadata": {},
          "execution_count": 396
        },
        {
          "output_type": "display_data",
          "data": {
            "text/plain": [
              "<Figure size 640x480 with 1 Axes>"
            ],
            "image/png": "[encoded data removed]"
          },
          "metadata": {}
        }
      ]
    },
    {
      "cell_type": "markdown",
      "source": [
        "##Training and Validation Accuracy"
      ],
      "metadata": {
        "id": "HpzBx3Tv59pv"
      }
    },
    {
      "cell_type": "code",
      "source": [
        "import matplotlib.pyplot as plt\n",
        "a=history.history['accuracy']\n",
        "val_a=history.history['val_accuracy']\n",
        "epochs=range(1,len(loss)+1)\n",
        "\n",
        "plt.plot(epochs,a,'y' , label='training accuracy')\n",
        "plt.plot(epochs,val_a,'r' , label='validation accuracy')\n",
        "plt.legend()\n",
        "plt.title('Training and Validation Accuracy')\n"
      ],
      "metadata": {
        "colab": {
          "base_uri": "https://localhost:8080/",
          "height": 469
        },
        "id": "h9UjEaiOMJrm",
        "outputId": "7bddd77c-1f24-4991-8722-4e99546562d0"
      },
      "execution_count": 397,
      "outputs": [
        {
          "output_type": "execute_result",
          "data": {
            "text/plain": [
              "Text(0.5, 1.0, 'Training and Validation Accuracy')"
            ]
          },
          "metadata": {},
          "execution_count": 397
        },
        {
          "output_type": "display_data",
          "data": {
            "text/plain": [
              "<Figure size 640x480 with 1 Axes>"
            ],
            "image/png": "[encoded data removed]"
          },
          "metadata": {}
        }
      ]
    },
    {
      "cell_type": "markdown",
      "source": [
        "## checking accuracy on trained model"
      ],
      "metadata": {
        "id": "EKMBIGCqMJR5"
      }
    },
    {
      "cell_type": "code",
      "source": [
        "\n",
        "df=df.sample(100)\n",
        "df"
      ],
      "metadata": {
        "colab": {
          "base_uri": "https://localhost:8080/",
          "height": 505
        },
        "id": "NW6K_LFiMlBI",
        "outputId": "81259bb7-5aeb-4101-daba-27d816c8b784"
      },
      "execution_count": 398,
      "outputs": [
        {
          "output_type": "execute_result",
          "data": {
            "text/plain": [
              "          id diagnosis  radius_mean  texture_mean  perimeter_mean  area_mean  \\\n",
              "267  8910499         B       13.590         21.84           87.16      561.0   \n",
              "315   894089         B       12.490         16.85           79.19      481.6   \n",
              "50    857343         B       11.760         21.60           74.72      427.9   \n",
              "453   911201         B       14.530         13.98           93.86      644.2   \n",
              "379  9013838         M       11.080         18.83           73.30      361.6   \n",
              "..       ...       ...          ...           ...             ...        ...   \n",
              "351   899667         M       15.750         19.22          107.10      758.6   \n",
              "370  9012315         M       16.350         23.29          109.00      840.4   \n",
              "558   925277         B       14.590         22.68           96.39      657.1   \n",
              "285  8912521         B       12.580         18.40           79.83      489.0   \n",
              "520   917092         B        9.295         13.90           59.96      257.8   \n",
              "\n",
              "     smoothness_mean  compactness_mean  concavity_mean  concave points_mean  \\\n",
              "267          0.07956           0.08259        0.040720             0.021420   \n",
              "315          0.08511           0.03834        0.004473             0.006423   \n",
              "50           0.08637           0.04966        0.016570             0.011150   \n",
              "453          0.10990           0.09242        0.068950             0.064950   \n",
              "379          0.12160           0.21540        0.168900             0.063670   \n",
              "..               ...               ...             ...                  ...   \n",
              "351          0.12430           0.23640        0.291400             0.124200   \n",
              "370          0.09742           0.14970        0.181100             0.087730   \n",
              "558          0.08473           0.13300        0.102900             0.037360   \n",
              "285          0.08393           0.04216        0.001860             0.002924   \n",
              "520          0.13710           0.12250        0.033320             0.024210   \n",
              "\n",
              "     ...  texture_worst  perimeter_worst  area_worst  smoothness_worst  \\\n",
              "267  ...          30.04            97.66       661.5            0.1005   \n",
              "315  ...          19.71            84.48       544.2            0.1104   \n",
              "50   ...          25.72            82.98       516.5            0.1085   \n",
              "453  ...          16.93           103.10       749.9            0.1347   \n",
              "379  ...          32.82            91.76       508.1            0.2184   \n",
              "..   ...            ...              ...         ...               ...   \n",
              "351  ...          24.17           119.40       915.3            0.1550   \n",
              "370  ...          31.03           129.30      1165.0            0.1415   \n",
              "558  ...          27.27           105.90       733.5            0.1026   \n",
              "285  ...          23.08            85.56       564.1            0.1038   \n",
              "520  ...          17.84            67.84       326.6            0.1850   \n",
              "\n",
              "     compactness_worst  concavity_worst  concave points_worst  symmetry_worst  \\\n",
              "267            0.17300         0.145300              0.061890          0.2446   \n",
              "315            0.04953         0.019380              0.027840          0.1917   \n",
              "50             0.08615         0.055230              0.037150          0.2433   \n",
              "453            0.14780         0.137300              0.106900          0.2606   \n",
              "379            0.93790         0.840200              0.252400          0.4154   \n",
              "..                 ...              ...                   ...             ...   \n",
              "351            0.50460         0.687200              0.213500          0.4245   \n",
              "370            0.46650         0.708700              0.224800          0.4824   \n",
              "558            0.31710         0.366200              0.110500          0.2258   \n",
              "285            0.06624         0.005579              0.008772          0.2505   \n",
              "520            0.20970         0.099960              0.072620          0.3681   \n",
              "\n",
              "     fractal_dimension_worst  Unnamed: 32  \n",
              "267                  0.07024          NaN  \n",
              "315                  0.06174          NaN  \n",
              "50                   0.06563          NaN  \n",
              "453                  0.07810          NaN  \n",
              "379                  0.14030          NaN  \n",
              "..                       ...          ...  \n",
              "351                  0.10500          NaN  \n",
              "370                  0.09614          NaN  \n",
              "558                  0.08004          NaN  \n",
              "285                  0.06431          NaN  \n",
              "520                  0.08982          NaN  \n",
              "\n",
              "[100 rows x 33 columns]"
            ],
            "text/html": [
              "\n",
              "  <div id=\"df-db67e832-62db-4f77-836e-74dce319ff38\">\n",
              "    <div class=\"colab-df-container\">\n",
              "      <div>\n",
              "<style scoped>\n",
              "    .dataframe tbody tr th:only-of-type {\n",
              "        vertical-align: middle;\n",
              "    }\n",
              "\n",
              "    .dataframe tbody tr th {\n",
              "        vertical-align: top;\n",
              "    }\n",
              "\n",
              "    .dataframe thead th {\n",
              "        text-align: right;\n",
              "    }\n",
              "</style>\n",
              "<table border=\"1\" class=\"dataframe\">\n",
              "  <thead>\n",
              "    <tr style=\"text-align: right;\">\n",
              "      <th></th>\n",
              "      <th>id</th>\n",
              "      <th>diagnosis</th>\n",
              "      <th>radius_mean</th>\n",
              "      <th>texture_mean</th>\n",
              "      <th>perimeter_mean</th>\n",
              "      <th>area_mean</th>\n",
              "      <th>smoothness_mean</th>\n",
              "      <th>compactness_mean</th>\n",
              "      <th>concavity_mean</th>\n",
              "      <th>concave points_mean</th>\n",
              "      <th>...</th>\n",
              "      <th>texture_worst</th>\n",
              "      <th>perimeter_worst</th>\n",
              "      <th>area_worst</th>\n",
              "      <th>smoothness_worst</th>\n",
              "      <th>compactness_worst</th>\n",
              "      <th>concavity_worst</th>\n",
              "      <th>concave points_worst</th>\n",
              "      <th>symmetry_worst</th>\n",
              "      <th>fractal_dimension_worst</th>\n",
              "      <th>Unnamed: 32</th>\n",
              "    </tr>\n",
              "  </thead>\n",
              "  <tbody>\n",
              "    <tr>\n",
              "      <th>267</th>\n",
              "      <td>8910499</td>\n",
              "      <td>B</td>\n",
              "      <td>13.590</td>\n",
              "      <td>21.84</td>\n",
              "      <td>87.16</td>\n",
              "      <td>561.0</td>\n",
              "      <td>0.07956</td>\n",
              "      <td>0.08259</td>\n",
              "      <td>0.040720</td>\n",
              "      <td>0.021420</td>\n",
              "      <td>...</td>\n",
              "      <td>30.04</td>\n",
              "      <td>97.66</td>\n",
              "      <td>661.5</td>\n",
              "      <td>0.1005</td>\n",
              "      <td>0.17300</td>\n",
              "      <td>0.145300</td>\n",
              "      <td>0.061890</td>\n",
              "      <td>0.2446</td>\n",
              "      <td>0.07024</td>\n",
              "      <td>NaN</td>\n",
              "    </tr>\n",
              "    <tr>\n",
              "      <th>315</th>\n",
              "      <td>894089</td>\n",
              "      <td>B</td>\n",
              "      <td>12.490</td>\n",
              "      <td>16.85</td>\n",
              "      <td>79.19</td>\n",
              "      <td>481.6</td>\n",
              "      <td>0.08511</td>\n",
              "      <td>0.03834</td>\n",
              "      <td>0.004473</td>\n",
              "      <td>0.006423</td>\n",
              "      <td>...</td>\n",
              "      <td>19.71</td>\n",
              "      <td>84.48</td>\n",
              "      <td>544.2</td>\n",
              "      <td>0.1104</td>\n",
              "      <td>0.04953</td>\n",
              "      <td>0.019380</td>\n",
              "      <td>0.027840</td>\n",
              "      <td>0.1917</td>\n",
              "      <td>0.06174</td>\n",
              "      <td>NaN</td>\n",
              "    </tr>\n",
              "    <tr>\n",
              "      <th>50</th>\n",
              "      <td>857343</td>\n",
              "      <td>B</td>\n",
              "      <td>11.760</td>\n",
              "      <td>21.60</td>\n",
              "      <td>74.72</td>\n",
              "      <td>427.9</td>\n",
              "      <td>0.08637</td>\n",
              "      <td>0.04966</td>\n",
              "      <td>0.016570</td>\n",
              "      <td>0.011150</td>\n",
              "      <td>...</td>\n",
              "      <td>25.72</td>\n",
              "      <td>82.98</td>\n",
              "      <td>516.5</td>\n",
              "      <td>0.1085</td>\n",
              "      <td>0.08615</td>\n",
              "      <td>0.055230</td>\n",
              "      <td>0.037150</td>\n",
              "      <td>0.2433</td>\n",
              "      <td>0.06563</td>\n",
              "      <td>NaN</td>\n",
              "    </tr>\n",
              "    <tr>\n",
              "      <th>453</th>\n",
              "      <td>911201</td>\n",
              "      <td>B</td>\n",
              "      <td>14.530</td>\n",
              "      <td>13.98</td>\n",
              "      <td>93.86</td>\n",
              "      <td>644.2</td>\n",
              "      <td>0.10990</td>\n",
              "      <td>0.09242</td>\n",
              "      <td>0.068950</td>\n",
              "      <td>0.064950</td>\n",
              "      <td>...</td>\n",
              "      <td>16.93</td>\n",
              "      <td>103.10</td>\n",
              "      <td>749.9</td>\n",
              "      <td>0.1347</td>\n",
              "      <td>0.14780</td>\n",
              "      <td>0.137300</td>\n",
              "      <td>0.106900</td>\n",
              "      <td>0.2606</td>\n",
              "      <td>0.07810</td>\n",
              "      <td>NaN</td>\n",
              "    </tr>\n",
              "    <tr>\n",
              "      <th>379</th>\n",
              "      <td>9013838</td>\n",
              "      <td>M</td>\n",
              "      <td>11.080</td>\n",
              "      <td>18.83</td>\n",
              "      <td>73.30</td>\n",
              "      <td>361.6</td>\n",
              "      <td>0.12160</td>\n",
              "      <td>0.21540</td>\n",
              "      <td>0.168900</td>\n",
              "      <td>0.063670</td>\n",
              "      <td>...</td>\n",
              "      <td>32.82</td>\n",
              "      <td>91.76</td>\n",
              "      <td>508.1</td>\n",
              "      <td>0.2184</td>\n",
              "      <td>0.93790</td>\n",
              "      <td>0.840200</td>\n",
              "      <td>0.252400</td>\n",
              "      <td>0.4154</td>\n",
              "      <td>0.14030</td>\n",
              "      <td>NaN</td>\n",
              "    </tr>\n",
              "    <tr>\n",
              "      <th>...</th>\n",
              "      <td>...</td>\n",
              "      <td>...</td>\n",
              "      <td>...</td>\n",
              "      <td>...</td>\n",
              "      <td>...</td>\n",
              "      <td>...</td>\n",
              "      <td>...</td>\n",
              "      <td>...</td>\n",
              "      <td>...</td>\n",
              "      <td>...</td>\n",
              "      <td>...</td>\n",
              "      <td>...</td>\n",
              "      <td>...</td>\n",
              "      <td>...</td>\n",
              "      <td>...</td>\n",
              "      <td>...</td>\n",
              "      <td>...</td>\n",
              "      <td>...</td>\n",
              "      <td>...</td>\n",
              "      <td>...</td>\n",
              "      <td>...</td>\n",
              "    </tr>\n",
              "    <tr>\n",
              "      <th>351</th>\n",
              "      <td>899667</td>\n",
              "      <td>M</td>\n",
              "      <td>15.750</td>\n",
              "      <td>19.22</td>\n",
              "      <td>107.10</td>\n",
              "      <td>758.6</td>\n",
              "      <td>0.12430</td>\n",
              "      <td>0.23640</td>\n",
              "      <td>0.291400</td>\n",
              "      <td>0.124200</td>\n",
              "      <td>...</td>\n",
              "      <td>24.17</td>\n",
              "      <td>119.40</td>\n",
              "      <td>915.3</td>\n",
              "      <td>0.1550</td>\n",
              "      <td>0.50460</td>\n",
              "      <td>0.687200</td>\n",
              "      <td>0.213500</td>\n",
              "      <td>0.4245</td>\n",
              "      <td>0.10500</td>\n",
              "      <td>NaN</td>\n",
              "    </tr>\n",
              "    <tr>\n",
              "      <th>370</th>\n",
              "      <td>9012315</td>\n",
              "      <td>M</td>\n",
              "      <td>16.350</td>\n",
              "      <td>23.29</td>\n",
              "      <td>109.00</td>\n",
              "      <td>840.4</td>\n",
              "      <td>0.09742</td>\n",
              "      <td>0.14970</td>\n",
              "      <td>0.181100</td>\n",
              "      <td>0.087730</td>\n",
              "      <td>...</td>\n",
              "      <td>31.03</td>\n",
              "      <td>129.30</td>\n",
              "      <td>1165.0</td>\n",
              "      <td>0.1415</td>\n",
              "      <td>0.46650</td>\n",
              "      <td>0.708700</td>\n",
              "      <td>0.224800</td>\n",
              "      <td>0.4824</td>\n",
              "      <td>0.09614</td>\n",
              "      <td>NaN</td>\n",
              "    </tr>\n",
              "    <tr>\n",
              "      <th>558</th>\n",
              "      <td>925277</td>\n",
              "      <td>B</td>\n",
              "      <td>14.590</td>\n",
              "      <td>22.68</td>\n",
              "      <td>96.39</td>\n",
              "      <td>657.1</td>\n",
              "      <td>0.08473</td>\n",
              "      <td>0.13300</td>\n",
              "      <td>0.102900</td>\n",
              "      <td>0.037360</td>\n",
              "      <td>...</td>\n",
              "      <td>27.27</td>\n",
              "      <td>105.90</td>\n",
              "      <td>733.5</td>\n",
              "      <td>0.1026</td>\n",
              "      <td>0.31710</td>\n",
              "      <td>0.366200</td>\n",
              "      <td>0.110500</td>\n",
              "      <td>0.2258</td>\n",
              "      <td>0.08004</td>\n",
              "      <td>NaN</td>\n",
              "    </tr>\n",
              "    <tr>\n",
              "      <th>285</th>\n",
              "      <td>8912521</td>\n",
              "      <td>B</td>\n",
              "      <td>12.580</td>\n",
              "      <td>18.40</td>\n",
              "      <td>79.83</td>\n",
              "      <td>489.0</td>\n",
              "      <td>0.08393</td>\n",
              "      <td>0.04216</td>\n",
              "      <td>0.001860</td>\n",
              "      <td>0.002924</td>\n",
              "      <td>...</td>\n",
              "      <td>23.08</td>\n",
              "      <td>85.56</td>\n",
              "      <td>564.1</td>\n",
              "      <td>0.1038</td>\n",
              "      <td>0.06624</td>\n",
              "      <td>0.005579</td>\n",
              "      <td>0.008772</td>\n",
              "      <td>0.2505</td>\n",
              "      <td>0.06431</td>\n",
              "      <td>NaN</td>\n",
              "    </tr>\n",
              "    <tr>\n",
              "      <th>520</th>\n",
              "      <td>917092</td>\n",
              "      <td>B</td>\n",
              "      <td>9.295</td>\n",
              "      <td>13.90</td>\n",
              "      <td>59.96</td>\n",
              "      <td>257.8</td>\n",
              "      <td>0.13710</td>\n",
              "      <td>0.12250</td>\n",
              "      <td>0.033320</td>\n",
              "      <td>0.024210</td>\n",
              "      <td>...</td>\n",
              "      <td>17.84</td>\n",
              "      <td>67.84</td>\n",
              "      <td>326.6</td>\n",
              "      <td>0.1850</td>\n",
              "      <td>0.20970</td>\n",
              "      <td>0.099960</td>\n",
              "      <td>0.072620</td>\n",
              "      <td>0.3681</td>\n",
              "      <td>0.08982</td>\n",
              "      <td>NaN</td>\n",
              "    </tr>\n",
              "  </tbody>\n",
              "</table>\n",
              "<p>100 rows × 33 columns</p>\n",
              "</div>\n",
              "      <button class=\"colab-df-convert\" onclick=\"convertToInteractive('df-db67e832-62db-4f77-836e-74dce319ff38')\"\n",
              "              title=\"Convert this dataframe to an interactive table.\"\n",
              "              style=\"display:none;\">\n",
              "        \n",
              "  <svg xmlns=\"http://www.w3.org/2000/svg\" height=\"24px\"viewBox=\"0 0 24 24\"\n",
              "       width=\"24px\">\n",
              "    <path d=\"M0 0h24v24H0V0z\" fill=\"none\"/>\n",
              "    <path d=\"M18.56 5.44l.94 2.06.94-2.06 2.06-.94-2.06-.94-.94-2.06-.94 2.06-2.06.94zm-11 1L8.5 8.5l.94-2.06 2.06-.94-2.06-.94L8.5 2.5l-.94 2.06-2.06.94zm10 10l.94 2.06.94-2.06 2.06-.94-2.06-.94-.94-2.06-.94 2.06-2.06.94z\"/><path d=\"M17.41 7.96l-1.37-1.37c-.4-.4-.92-.59-1.43-.59-.52 0-1.04.2-1.43.59L10.3 9.45l-7.72 7.72c-.78.78-.78 2.05 0 2.83L4 21.41c.39.39.9.59 1.41.59.51 0 1.02-.2 1.41-.59l7.78-7.78 2.81-2.81c.8-.78.8-2.07 0-2.86zM5.41 20L4 18.59l7.72-7.72 1.47 1.35L5.41 20z\"/>\n",
              "  </svg>\n",
              "      </button>\n",
              "      \n",
              "  <style>\n",
              "    .colab-df-container {\n",
              "      display:flex;\n",
              "      flex-wrap:wrap;\n",
              "      gap: 12px;\n",
              "    }\n",
              "\n",
              "    .colab-df-convert {\n",
              "      background-color: #E8F0FE;\n",
              "      border: none;\n",
              "      border-radius: 50%;\n",
              "      cursor: pointer;\n",
              "      display: none;\n",
              "      fill: #1967D2;\n",
              "      height: 32px;\n",
              "      padding: 0 0 0 0;\n",
              "      width: 32px;\n",
              "    }\n",
              "\n",
              "    .colab-df-convert:hover {\n",
              "      background-color: #E2EBFA;\n",
              "      box-shadow: 0px 1px 2px rgba(60, 64, 67, 0.3), 0px 1px 3px 1px rgba(60, 64, 67, 0.15);\n",
              "      fill: #174EA6;\n",
              "    }\n",
              "\n",
              "    [theme=dark] .colab-df-convert {\n",
              "      background-color: #3B4455;\n",
              "      fill: #D2E3FC;\n",
              "    }\n",
              "\n",
              "    [theme=dark] .colab-df-convert:hover {\n",
              "      background-color: #434B5C;\n",
              "      box-shadow: 0px 1px 3px 1px rgba(0, 0, 0, 0.15);\n",
              "      filter: drop-shadow(0px 1px 2px rgba(0, 0, 0, 0.3));\n",
              "      fill: #FFFFFF;\n",
              "    }\n",
              "  </style>\n",
              "\n",
              "      <script>\n",
              "        const buttonEl =\n",
              "          document.querySelector('#df-db67e832-62db-4f77-836e-74dce319ff38 button.colab-df-convert');\n",
              "        buttonEl.style.display =\n",
              "          google.colab.kernel.accessAllowed ? 'block' : 'none';\n",
              "\n",
              "        async function convertToInteractive(key) {\n",
              "          const element = document.querySelector('#df-db67e832-62db-4f77-836e-74dce319ff38');\n",
              "          const dataTable =\n",
              "            await google.colab.kernel.invokeFunction('convertToInteractive',\n",
              "                                                     [key], {});\n",
              "          if (!dataTable) return;\n",
              "\n",
              "          const docLinkHtml = 'Like what you see? Visit the ' +\n",
              "            '<a target=\"_blank\" href=https://colab.research.google.com/notebooks/data_table.ipynb>data table notebook</a>'\n",
              "            + ' to learn more about interactive tables.';\n",
              "          element.innerHTML = '';\n",
              "          dataTable['output_type'] = 'display_data';\n",
              "          await google.colab.output.renderOutput(dataTable, element);\n",
              "          const docLink = document.createElement('div');\n",
              "          docLink.innerHTML = docLinkHtml;\n",
              "          element.appendChild(docLink);\n",
              "        }\n",
              "      </script>\n",
              "    </div>\n",
              "  </div>\n",
              "  "
            ]
          },
          "metadata": {},
          "execution_count": 398
        }
      ]
    },
    {
      "cell_type": "code",
      "source": [
        "a=df.drop(columns=['id','diagnosis','Unnamed: 32'])\n",
        "b=df['diagnosis']\n",
        "\n",
        "from sklearn.preprocessing import LabelEncoder\n",
        "le=LabelEncoder()\n",
        "le.fit(b)\n",
        "b=le.transform(b)\n",
        "b=pd.DataFrame(b)\n",
        "from sklearn.preprocessing import StandardScaler\n",
        "scaler=StandardScaler()\n",
        "a=scaler.fit_transform(a)\n",
        "\n",
        "\n"
      ],
      "metadata": {
        "id": "g51Y0kT0PB57"
      },
      "execution_count": 399,
      "outputs": []
    },
    {
      "cell_type": "code",
      "source": [
        "b_test=model.predict(a)\n",
        "b_test\n",
        "import seaborn as sns\n",
        "sns.distplot(b_test)"
      ],
      "metadata": {
        "colab": {
          "base_uri": "https://localhost:8080/",
          "height": 656
        },
        "id": "um7VcX97QODS",
        "outputId": "5a67a44a-b5a6-4820-9ef1-bd257ccd7fce"
      },
      "execution_count": 400,
      "outputs": [
        {
          "output_type": "stream",
          "name": "stdout",
          "text": [
            "4/4 [==============================] - 0s 5ms/step\n"
          ]
        },
        {
          "output_type": "stream",
          "name": "stderr",
          "text": [
            "<ipython-input-400-643330a14a66>:4: UserWarning: \n",
            "\n",
            "`distplot` is a deprecated function and will be removed in seaborn v0.14.0.\n",
            "\n",
            "Please adapt your code to use either `displot` (a figure-level function with\n",
            "similar flexibility) or `histplot` (an axes-level function for histograms).\n",
            "\n",
            "For a guide to updating your code to use the new functions, please see\n",
            "https://gist.github.com/mwaskom/de44147ed2974457ad6372750bbe5751\n",
            "\n",
            "  sns.distplot(b_test)\n"
          ]
        },
        {
          "output_type": "execute_result",
          "data": {
            "text/plain": [
              "<Axes: ylabel='Density'>"
            ]
          },
          "metadata": {},
          "execution_count": 400
        },
        {
          "output_type": "display_data",
          "data": {
            "text/plain": [
              "<Figure size 640x480 with 1 Axes>"
            ],
            "image/png": "[encoded data removed]"
          },
          "metadata": {}
        }
      ]
    },
    {
      "cell_type": "code",
      "source": [
        "b_test=np.where(b_test>0.5,1,0)\n",
        "b_test=pd.DataFrame(b_test)"
      ],
      "metadata": {
        "id": "Ut6aN_ayRKrN"
      },
      "execution_count": 401,
      "outputs": []
    },
    {
      "cell_type": "code",
      "source": [
        "from sklearn.metrics import accuracy_score\n",
        "accuracy_score(b,b_test  )"
      ],
      "metadata": {
        "colab": {
          "base_uri": "https://localhost:8080/"
        },
        "id": "Muu0-yAdRWg5",
        "outputId": "6a67a374-2d59-4b1e-d5d6-6d176adb978e"
      },
      "execution_count": 402,
      "outputs": [
        {
          "output_type": "execute_result",
          "data": {
            "text/plain": [
              "0.97"
            ]
          },
          "metadata": {},
          "execution_count": 402
        }
      ]
    }
  ]
}